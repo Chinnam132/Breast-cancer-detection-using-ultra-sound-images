{
 "cells": [
  {
   "cell_type": "code",
   "execution_count": 1,
   "metadata": {},
   "outputs": [],
   "source": [
    "import tensorflow as tf\n",
    "from tensorflow.keras.layers import Conv2D, MaxPooling2D, Flatten, Dense\n",
    "from tensorflow.keras.models import Sequential\n",
    "from tensorflow.keras.preprocessing.image import ImageDataGenerator\n",
    "from sklearn.metrics import confusion_matrix\n",
    "import numpy as np\n",
    "import matplotlib.pyplot as plt"
   ]
  },
  {
   "cell_type": "code",
   "execution_count": 2,
   "metadata": {},
   "outputs": [],
   "source": [
    "# Set the directories for the training and validation datasets\n",
    "train_dir = 'Dataset/Train'\n",
    "val_dir = 'Dataset/Test'"
   ]
  },
  {
   "cell_type": "code",
   "execution_count": 3,
   "metadata": {},
   "outputs": [],
   "source": [
    "# Set the parameters for the image preprocessing\n",
    "img_width, img_height = 224, 224\n",
    "batch_size = 32"
   ]
  },
  {
   "cell_type": "code",
   "execution_count": 4,
   "metadata": {},
   "outputs": [],
   "source": [
    "# Create data generators to preprocess the images\n",
    "train_datagen = ImageDataGenerator(rescale=1./255,\n",
    "                                   shear_range=0.2,\n",
    "                                   zoom_range=0.2,\n",
    "                                   horizontal_flip=True)\n",
    "val_datagen = ImageDataGenerator(rescale=1./255)"
   ]
  },
  {
   "cell_type": "code",
   "execution_count": 5,
   "metadata": {},
   "outputs": [
    {
     "name": "stdout",
     "output_type": "stream",
     "text": [
      "Found 1016 images belonging to 7 classes.\n"
     ]
    }
   ],
   "source": [
    "train_generator = train_datagen.flow_from_directory(train_dir,\n",
    "                                                    target_size=(img_width, img_height),\n",
    "                                                    batch_size=batch_size,\n",
    "                                                    class_mode='categorical')"
   ]
  },
  {
   "cell_type": "code",
   "execution_count": 6,
   "metadata": {},
   "outputs": [
    {
     "name": "stdout",
     "output_type": "stream",
     "text": [
      "Found 180 images belonging to 7 classes.\n"
     ]
    }
   ],
   "source": [
    "val_generator = val_datagen.flow_from_directory(val_dir,\n",
    "                                                target_size=(img_width, img_height),\n",
    "                                                batch_size=batch_size,\n",
    "                                                class_mode='categorical')"
   ]
  },
  {
   "cell_type": "code",
   "execution_count": 7,
   "metadata": {},
   "outputs": [],
   "source": [
    "# Define the CNN architecture\n",
    "model = Sequential([\n",
    "    Conv2D(32, (3, 3), activation='relu', input_shape=(img_width, img_height, 3)),\n",
    "    MaxPooling2D((2, 2)),\n",
    "    Conv2D(64, (3, 3), activation='relu'),\n",
    "    MaxPooling2D((2, 2)),\n",
    "    Conv2D(128, (3, 3), activation='relu'),\n",
    "    MaxPooling2D((2, 2)),\n",
    "    Flatten(),\n",
    "    Dense(128, activation='relu'),\n",
    "    Dense(7, activation='softmax')\n",
    "])"
   ]
  },
  {
   "cell_type": "code",
   "execution_count": 8,
   "metadata": {},
   "outputs": [
    {
     "name": "stdout",
     "output_type": "stream",
     "text": [
      "Model: \"sequential\"\n",
      "_________________________________________________________________\n",
      "Layer (type)                 Output Shape              Param #   \n",
      "=================================================================\n",
      "conv2d (Conv2D)              (None, 222, 222, 32)      896       \n",
      "_________________________________________________________________\n",
      "max_pooling2d (MaxPooling2D) (None, 111, 111, 32)      0         \n",
      "_________________________________________________________________\n",
      "conv2d_1 (Conv2D)            (None, 109, 109, 64)      18496     \n",
      "_________________________________________________________________\n",
      "max_pooling2d_1 (MaxPooling2 (None, 54, 54, 64)        0         \n",
      "_________________________________________________________________\n",
      "conv2d_2 (Conv2D)            (None, 52, 52, 128)       73856     \n",
      "_________________________________________________________________\n",
      "max_pooling2d_2 (MaxPooling2 (None, 26, 26, 128)       0         \n",
      "_________________________________________________________________\n",
      "flatten (Flatten)            (None, 86528)             0         \n",
      "_________________________________________________________________\n",
      "dense (Dense)                (None, 128)               11075712  \n",
      "_________________________________________________________________\n",
      "dense_1 (Dense)              (None, 7)                 903       \n",
      "=================================================================\n",
      "Total params: 11,169,863\n",
      "Trainable params: 11,169,863\n",
      "Non-trainable params: 0\n",
      "_________________________________________________________________\n"
     ]
    }
   ],
   "source": [
    "model.summary()"
   ]
  },
  {
   "cell_type": "code",
   "execution_count": 9,
   "metadata": {},
   "outputs": [],
   "source": [
    "# Compile the model\n",
    "model.compile(optimizer='adam',\n",
    "              loss='categorical_crossentropy',\n",
    "              metrics=['accuracy'])"
   ]
  },
  {
   "cell_type": "code",
   "execution_count": 10,
   "metadata": {},
   "outputs": [
    {
     "name": "stdout",
     "output_type": "stream",
     "text": [
      "Epoch 1/50\n",
      "32/32 [==============================] - 36s 1s/step - loss: 1.9223 - accuracy: 0.3386 - val_loss: 1.5936 - val_accuracy: 0.4000\n",
      "Epoch 2/50\n",
      "32/32 [==============================] - 30s 950ms/step - loss: 1.4189 - accuracy: 0.4370 - val_loss: 1.2927 - val_accuracy: 0.5333\n",
      "Epoch 3/50\n",
      "32/32 [==============================] - 32s 996ms/step - loss: 1.2578 - accuracy: 0.5433 - val_loss: 1.0020 - val_accuracy: 0.6722\n",
      "Epoch 4/50\n",
      "32/32 [==============================] - 31s 960ms/step - loss: 1.1375 - accuracy: 0.5925 - val_loss: 1.0163 - val_accuracy: 0.6667\n",
      "Epoch 5/50\n",
      "32/32 [==============================] - 31s 959ms/step - loss: 1.0777 - accuracy: 0.6280 - val_loss: 0.9747 - val_accuracy: 0.6667\n",
      "Epoch 6/50\n",
      "32/32 [==============================] - 30s 947ms/step - loss: 1.0582 - accuracy: 0.6043 - val_loss: 0.7781 - val_accuracy: 0.7278\n",
      "Epoch 7/50\n",
      "32/32 [==============================] - 30s 937ms/step - loss: 1.0361 - accuracy: 0.6093 - val_loss: 0.7524 - val_accuracy: 0.7611\n",
      "Epoch 8/50\n",
      "32/32 [==============================] - 30s 933ms/step - loss: 0.9333 - accuracy: 0.6555 - val_loss: 0.7458 - val_accuracy: 0.7222\n",
      "Epoch 9/50\n",
      "32/32 [==============================] - 30s 938ms/step - loss: 0.8792 - accuracy: 0.6850 - val_loss: 0.7240 - val_accuracy: 0.7611\n",
      "Epoch 10/50\n",
      "32/32 [==============================] - 30s 947ms/step - loss: 0.8617 - accuracy: 0.6969 - val_loss: 0.6072 - val_accuracy: 0.8333\n",
      "Epoch 11/50\n",
      "32/32 [==============================] - 31s 967ms/step - loss: 0.8273 - accuracy: 0.7077 - val_loss: 0.6384 - val_accuracy: 0.7778\n",
      "Epoch 12/50\n",
      "32/32 [==============================] - 30s 932ms/step - loss: 0.7529 - accuracy: 0.7520 - val_loss: 0.4529 - val_accuracy: 0.8500\n",
      "Epoch 13/50\n",
      "32/32 [==============================] - 33s 1s/step - loss: 0.7446 - accuracy: 0.7313 - val_loss: 0.5258 - val_accuracy: 0.8333\n",
      "Epoch 14/50\n",
      "32/32 [==============================] - 32s 1s/step - loss: 0.6939 - accuracy: 0.7520 - val_loss: 0.4651 - val_accuracy: 0.8667\n",
      "Epoch 15/50\n",
      "32/32 [==============================] - 32s 986ms/step - loss: 0.6554 - accuracy: 0.7598 - val_loss: 0.5122 - val_accuracy: 0.8611\n",
      "Epoch 16/50\n",
      "32/32 [==============================] - 32s 1s/step - loss: 0.6596 - accuracy: 0.7795 - val_loss: 0.4763 - val_accuracy: 0.8333\n",
      "Epoch 17/50\n",
      "32/32 [==============================] - 33s 1s/step - loss: 0.6140 - accuracy: 0.7844 - val_loss: 0.4154 - val_accuracy: 0.8944\n",
      "Epoch 18/50\n",
      "32/32 [==============================] - 32s 1s/step - loss: 0.5782 - accuracy: 0.7923 - val_loss: 0.4168 - val_accuracy: 0.8333\n",
      "Epoch 19/50\n",
      "32/32 [==============================] - 32s 1s/step - loss: 0.5534 - accuracy: 0.8091 - val_loss: 0.3537 - val_accuracy: 0.9056\n",
      "Epoch 20/50\n",
      "32/32 [==============================] - 33s 1s/step - loss: 0.5259 - accuracy: 0.8169 - val_loss: 0.3528 - val_accuracy: 0.9000\n",
      "Epoch 21/50\n",
      "32/32 [==============================] - 32s 1s/step - loss: 0.5187 - accuracy: 0.8179 - val_loss: 0.2771 - val_accuracy: 0.9222\n",
      "Epoch 22/50\n",
      "32/32 [==============================] - 32s 988ms/step - loss: 0.4652 - accuracy: 0.8396 - val_loss: 0.2689 - val_accuracy: 0.9167\n",
      "Epoch 23/50\n",
      "32/32 [==============================] - 32s 994ms/step - loss: 0.4355 - accuracy: 0.8474 - val_loss: 0.2219 - val_accuracy: 0.9167\n",
      "Epoch 24/50\n",
      "32/32 [==============================] - 32s 989ms/step - loss: 0.4113 - accuracy: 0.8661 - val_loss: 0.2481 - val_accuracy: 0.9111\n",
      "Epoch 25/50\n",
      "32/32 [==============================] - 40s 1s/step - loss: 0.4733 - accuracy: 0.8435 - val_loss: 0.2344 - val_accuracy: 0.9278\n",
      "Epoch 26/50\n",
      "32/32 [==============================] - 33s 1s/step - loss: 0.3869 - accuracy: 0.8671 - val_loss: 0.2552 - val_accuracy: 0.9222\n",
      "Epoch 27/50\n",
      "32/32 [==============================] - 33s 1s/step - loss: 0.3994 - accuracy: 0.8750 - val_loss: 0.2911 - val_accuracy: 0.8944\n",
      "Epoch 28/50\n",
      "32/32 [==============================] - 39s 1s/step - loss: 0.3173 - accuracy: 0.8888 - val_loss: 0.1414 - val_accuracy: 0.9833\n",
      "Epoch 29/50\n",
      "32/32 [==============================] - 33s 1s/step - loss: 0.3444 - accuracy: 0.8868 - val_loss: 0.1770 - val_accuracy: 0.9444\n",
      "Epoch 30/50\n",
      "32/32 [==============================] - 31s 979ms/step - loss: 0.3055 - accuracy: 0.9045 - val_loss: 0.1652 - val_accuracy: 0.9556\n",
      "Epoch 31/50\n",
      "32/32 [==============================] - 36s 1s/step - loss: 0.3091 - accuracy: 0.8937 - val_loss: 0.1226 - val_accuracy: 0.9833\n",
      "Epoch 32/50\n",
      "32/32 [==============================] - 30s 939ms/step - loss: 0.2695 - accuracy: 0.9035 - val_loss: 0.0958 - val_accuracy: 0.9833\n",
      "Epoch 33/50\n",
      "32/32 [==============================] - 33s 1s/step - loss: 0.2533 - accuracy: 0.9173 - val_loss: 0.1294 - val_accuracy: 0.9611\n",
      "Epoch 34/50\n",
      "32/32 [==============================] - 33s 1s/step - loss: 0.2906 - accuracy: 0.9085 - val_loss: 0.0828 - val_accuracy: 0.9722\n",
      "Epoch 35/50\n",
      "32/32 [==============================] - 32s 999ms/step - loss: 0.2369 - accuracy: 0.9222 - val_loss: 0.0858 - val_accuracy: 0.9722\n",
      "Epoch 36/50\n",
      "32/32 [==============================] - 33s 1s/step - loss: 0.2455 - accuracy: 0.9183 - val_loss: 0.1314 - val_accuracy: 0.9667\n",
      "Epoch 37/50\n",
      "32/32 [==============================] - 33s 1s/step - loss: 0.2134 - accuracy: 0.9380 - val_loss: 0.1077 - val_accuracy: 0.9778\n",
      "Epoch 38/50\n",
      "32/32 [==============================] - 33s 1s/step - loss: 0.2035 - accuracy: 0.9380 - val_loss: 0.1006 - val_accuracy: 0.9667\n",
      "Epoch 39/50\n",
      "32/32 [==============================] - 31s 976ms/step - loss: 0.1856 - accuracy: 0.9281 - val_loss: 0.0547 - val_accuracy: 0.9833\n",
      "Epoch 40/50\n",
      "32/32 [==============================] - 33s 1s/step - loss: 0.2076 - accuracy: 0.9350 - val_loss: 0.0697 - val_accuracy: 0.9833\n",
      "Epoch 41/50\n",
      "32/32 [==============================] - 33s 1s/step - loss: 0.1897 - accuracy: 0.9360 - val_loss: 0.0892 - val_accuracy: 0.9778\n",
      "Epoch 42/50\n",
      "32/32 [==============================] - 32s 1s/step - loss: 0.2368 - accuracy: 0.9252 - val_loss: 0.0531 - val_accuracy: 0.9889\n",
      "Epoch 43/50\n",
      "32/32 [==============================] - 31s 968ms/step - loss: 0.1707 - accuracy: 0.9380 - val_loss: 0.0724 - val_accuracy: 0.9833\n",
      "Epoch 44/50\n",
      "32/32 [==============================] - 31s 983ms/step - loss: 0.1636 - accuracy: 0.9488 - val_loss: 0.0877 - val_accuracy: 0.9722\n",
      "Epoch 45/50\n",
      "32/32 [==============================] - 31s 975ms/step - loss: 0.2176 - accuracy: 0.9380 - val_loss: 0.0647 - val_accuracy: 0.9889\n",
      "Epoch 46/50\n",
      "32/32 [==============================] - 31s 968ms/step - loss: 0.1785 - accuracy: 0.9469 - val_loss: 0.0662 - val_accuracy: 0.9778\n",
      "Epoch 47/50\n",
      "32/32 [==============================] - 32s 985ms/step - loss: 0.1608 - accuracy: 0.9459 - val_loss: 0.0498 - val_accuracy: 0.9833\n",
      "Epoch 48/50\n",
      "32/32 [==============================] - 30s 940ms/step - loss: 0.1638 - accuracy: 0.9390 - val_loss: 0.0759 - val_accuracy: 0.9833\n",
      "Epoch 49/50\n",
      "32/32 [==============================] - 31s 954ms/step - loss: 0.1273 - accuracy: 0.9636 - val_loss: 0.0373 - val_accuracy: 0.9889\n",
      "Epoch 50/50\n",
      "32/32 [==============================] - 31s 984ms/step - loss: 0.1477 - accuracy: 0.9508 - val_loss: 0.0600 - val_accuracy: 0.9833\n"
     ]
    }
   ],
   "source": [
    "# Train the model\n",
    "epochs = 50\n",
    "history = model.fit(train_generator,\n",
    "                    epochs=epochs,\n",
    "                    validation_data=val_generator)"
   ]
  },
  {
   "cell_type": "code",
   "execution_count": 11,
   "metadata": {},
   "outputs": [],
   "source": [
    "# Save the trained model\n",
    "model.save('breastcancer.h5')"
   ]
  },
  {
   "cell_type": "code",
   "execution_count": 12,
   "metadata": {},
   "outputs": [],
   "source": [
    "# Plot the accuracy and loss curves\n",
    "acc = history.history['accuracy']\n",
    "val_acc = history.history['val_accuracy']\n",
    "loss = history.history['loss']\n",
    "val_loss = history.history['val_loss']"
   ]
  },
  {
   "cell_type": "code",
   "execution_count": 13,
   "metadata": {},
   "outputs": [],
   "source": [
    "epochs_range = range(epochs)"
   ]
  },
  {
   "cell_type": "code",
   "execution_count": 14,
   "metadata": {},
   "outputs": [
    {
     "data": {
      "text/plain": [
       "Text(0.5, 1.0, 'Training and Validation Accuracy')"
      ]
     },
     "execution_count": 14,
     "metadata": {},
     "output_type": "execute_result"
    },
    {
     "data": {
      "image/png": "[encoded data removed]",
      "text/plain": [
       "<Figure size 576x576 with 1 Axes>"
      ]
     },
     "metadata": {
      "needs_background": "light"
     },
     "output_type": "display_data"
    }
   ],
   "source": [
    "plt.figure(figsize=(8, 8))\n",
    "plt.subplot(2, 1, 1)\n",
    "plt.plot(epochs_range, acc, label='Training Accuracy')\n",
    "plt.plot(epochs_range, val_acc, label='Validation Accuracy')\n",
    "plt.legend(loc='lower right')\n",
    "plt.title('Training and Validation Accuracy')"
   ]
  },
  {
   "cell_type": "code",
   "execution_count": 15,
   "metadata": {},
   "outputs": [
    {
     "data": {
      "image/png": "[encoded data removed]",
      "text/plain": [
       "<Figure size 432x288 with 1 Axes>"
      ]
     },
     "metadata": {
      "needs_background": "light"
     },
     "output_type": "display_data"
    }
   ],
   "source": [
    "plt.subplot(2, 1, 2)\n",
    "plt.plot(epochs_range, loss, label='Training Loss')\n",
    "plt.plot(epochs_range, val_loss, label='Validation Loss')\n",
    "plt.legend(loc='upper right')\n",
    "plt.title('Training and Validation Loss')\n",
    "plt.show()"
   ]
  },
  {
   "cell_type": "code",
   "execution_count": 16,
   "metadata": {},
   "outputs": [
    {
     "data": {
      "image/png": "[encoded data removed]",
      "text/plain": [
       "<Figure size 432x288 with 2 Axes>"
      ]
     },
     "metadata": {
      "needs_background": "light"
     },
     "output_type": "display_data"
    }
   ],
   "source": [
    "import numpy as np\n",
    "from sklearn.metrics import confusion_matrix\n",
    "from sklearn.utils.multiclass import unique_labels\n",
    "import matplotlib.pyplot as plt\n",
    "\n",
    "# Generate predictions and compute the confusion matrix\n",
    "Y_pred = model.predict(val_generator)\n",
    "y_pred = np.argmax(Y_pred, axis=1)\n",
    "cm = confusion_matrix(val_generator.classes, y_pred)\n",
    "\n",
    "# Define class labels\n",
    "class_names = ['benignstage1', 'benignstage2', 'benignstage3', 'malignantstage1','malignantstage2', 'malignantstage3', 'normal']\n",
    "\n",
    "# Plot the confusion matrix\n",
    "fig, ax = plt.subplots()\n",
    "im = ax.imshow(cm, interpolation='nearest', cmap=plt.cm.Blues)\n",
    "ax.figure.colorbar(im, ax=ax)\n",
    "# Set the x-axis and y-axis labels\n",
    "ax.set(xticks=np.arange(cm.shape[1]),\n",
    "       yticks=np.arange(cm.shape[0]),\n",
    "       xticklabels=class_names, yticklabels=class_names,\n",
    "       xlabel='Predicted label', ylabel='True label')\n",
    "# Rotate the x-axis labels to vertical orientation\n",
    "plt.setp(ax.get_xticklabels(), rotation=90, ha=\"right\",\n",
    "         rotation_mode=\"anchor\")\n",
    "# Loop over the data and annotate each cell with its value\n",
    "for i in range(cm.shape[0]):\n",
    "    for j in range(cm.shape[1]):\n",
    "        ax.text(j, i, format(cm[i, j], 'd'),\n",
    "                ha=\"center\", va=\"center\",\n",
    "                color=\"white\" if cm[i, j] > cm.max() / 2. else \"black\")\n",
    "# Add a title to the plot\n",
    "ax.set_title(\"Confusion matrix\")\n",
    "fig.tight_layout()\n",
    "plt.show()\n"
   ]
  },
  {
   "cell_type": "code",
   "execution_count": 17,
   "metadata": {},
   "outputs": [
    {
     "name": "stdout",
     "output_type": "stream",
     "text": [
      "                 precision    recall  f1-score   support\n",
      "\n",
      "   benignstage1       0.08      0.08      0.08        26\n",
      "   benignstage2       0.00      0.00      0.00        12\n",
      "   benignstage3       0.10      0.10      0.10        20\n",
      "malignantstage1       0.06      0.06      0.06        18\n",
      "malignantstage2       0.17      0.17      0.17        24\n",
      "malignantstage3       0.15      0.15      0.15        26\n",
      "         normal       0.35      0.35      0.35        54\n",
      "\n",
      "       accuracy                           0.18       180\n",
      "      macro avg       0.13      0.13      0.13       180\n",
      "   weighted avg       0.18      0.18      0.18       180\n",
      "\n"
     ]
    }
   ],
   "source": [
    "from sklearn.metrics import classification_report\n",
    "\n",
    "# Generate predictions\n",
    "Y_pred = model.predict(val_generator)\n",
    "y_pred = np.argmax(Y_pred, axis=1)\n",
    "\n",
    "# Get the class labels\n",
    "class_labels = list(val_generator.class_indices.keys())\n",
    "\n",
    "# Generate the classification report\n",
    "report = classification_report(val_generator.classes, y_pred, target_names=class_labels)\n",
    "print(report)\n"
   ]
  },
  {
   "cell_type": "code",
   "execution_count": 18,
   "metadata": {},
   "outputs": [
    {
     "data": {
      "image/png": "[encoded data removed]",
      "text/plain": [
       "<Figure size 432x288 with 1 Axes>"
      ]
     },
     "metadata": {
      "needs_background": "light"
     },
     "output_type": "display_data"
    }
   ],
   "source": [
    "# Get the class labels\n",
    "class_labels = list(val_generator.class_indices.keys())\n",
    "\n",
    "# Get the class-wise accuracy values\n",
    "class_wise_accuracy = cm.diagonal() / cm.sum(axis=1)\n",
    "\n",
    "# Create a bar chart\n",
    "plt.bar(class_labels, class_wise_accuracy)\n",
    "plt.title('Accuracy by Class')\n",
    "plt.xlabel('Class')\n",
    "plt.ylabel('Accuracy')\n",
    "plt.show()\n"
   ]
  },
  {
   "cell_type": "code",
   "execution_count": 19,
   "metadata": {},
   "outputs": [
    {
     "name": "stdout",
     "output_type": "stream",
     "text": [
      "6/6 [==============================] - 1s 186ms/step - loss: 0.0600 - accuracy: 0.9833\n",
      "Validation Accuracy: 98.33\n"
     ]
    }
   ],
   "source": [
    "# Evaluate the model on the validation data\n",
    "_, accuracy = model.evaluate(val_generator)\n",
    "\n",
    "# Print the validation accuracy\n",
    "print('Validation Accuracy: %.2f' % (accuracy*100))\n"
   ]
  },
  {
   "cell_type": "code",
   "execution_count": 20,
   "metadata": {},
   "outputs": [
    {
     "name": "stdout",
     "output_type": "stream",
     "text": [
      "Accuracy: 95.08%\n"
     ]
    }
   ],
   "source": [
    "# Get the accuracy from the history object\n",
    "accuracy = history.history['accuracy'][-1]\n",
    "\n",
    "# Print the accuracy to the console\n",
    "print(\"Accuracy: {:.2f}%\".format(accuracy * 100))"
   ]
  }
 ],
 "metadata": {
  "kernelspec": {
   "display_name": "Python 3",
   "language": "python",
   "name": "python3"
  },
  "language_info": {
   "codemirror_mode": {
    "name": "ipython",
    "version": 3
   },
   "file_extension": ".py",
   "mimetype": "text/x-python",
   "name": "python",
   "nbconvert_exporter": "python",
   "pygments_lexer": "ipython3",
   "version": "3.7.9"
  }
 },
 "nbformat": 4,
 "nbformat_minor": 2
}
